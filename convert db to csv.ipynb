{
 "cells": [
  {
   "cell_type": "code",
   "execution_count": 13,
   "id": "e4ae58ab-5528-49b0-b491-c3e6cecb7bf6",
   "metadata": {},
   "outputs": [
    {
     "name": "stdout",
     "output_type": "stream",
     "text": [
      "✅ Export complete. Click below to download the CSV file:\n"
     ]
    },
    {
     "data": {
      "text/html": [
       "<a href='simulation_parameters.csv' target='_blank'>simulation_parameters.csv</a><br>"
      ],
      "text/plain": [
       "D:\\for thesis & publication\\metameterial-designs\\simulation_parameters.csv"
      ]
     },
     "execution_count": 13,
     "metadata": {},
     "output_type": "execute_result"
    }
   ],
   "source": [
    "import sqlite3\n",
    "import pandas as pd\n",
    "from IPython.display import FileLink\n",
    "\n",
    "# 1️⃣ Connect to the database\n",
    "conn = sqlite3.connect(\"simulation.db\")  # Adjust the path if needed\n",
    "\n",
    "# 2️⃣ Read the table\n",
    "df = pd.read_sql_query(\"SELECT * FROM simulation_parameters;\", conn)\n",
    "\n",
    "# 3️⃣ Export to CSV\n",
    "csv_filename = \"simulation_parameters.csv\"\n",
    "df.to_csv(csv_filename, index=False)\n",
    "\n",
    "# 4️⃣ Close the database connection\n",
    "conn.close()\n",
    "\n",
    "# 5️⃣ Display a download link in the notebook\n",
    "print(\"✅ Export complete. Click below to download the CSV file:\")\n",
    "FileLink(csv_filename)\n"
   ]
  },
  {
   "cell_type": "code",
   "execution_count": null,
   "id": "959e8fbe-9acb-46cc-9d42-2b42c9fd52f2",
   "metadata": {},
   "outputs": [],
   "source": []
  }
 ],
 "metadata": {
  "kernelspec": {
   "display_name": "Python 3 (ipykernel)",
   "language": "python",
   "name": "python3"
  },
  "language_info": {
   "codemirror_mode": {
    "name": "ipython",
    "version": 3
   },
   "file_extension": ".py",
   "mimetype": "text/x-python",
   "name": "python",
   "nbconvert_exporter": "python",
   "pygments_lexer": "ipython3",
   "version": "3.12.4"
  }
 },
 "nbformat": 4,
 "nbformat_minor": 5
}
